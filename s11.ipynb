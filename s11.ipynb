{
 "cells": [
  {
   "cell_type": "code",
   "metadata": {
    "tags": [],
    "cell_id": "00000-be0fc5ea-103c-484f-85f0-8023d91fbaa1",
    "deepnote_to_be_reexecuted": false,
    "source_hash": "e92977f5",
    "execution_start": 1627302017006,
    "execution_millis": 1348,
    "deepnote_cell_type": "code"
   },
   "source": "!git clone https://github.com/MANU-CHAUHAN/epai3-s11",
   "execution_count": 1,
   "outputs": [
    {
     "name": "stdout",
     "text": "Cloning into 'epai3-s11'...\nremote: Enumerating objects: 20, done.\u001b[K\nremote: Counting objects: 100% (20/20), done.\u001b[K\nremote: Compressing objects: 100% (15/15), done.\u001b[K\nremote: Total 20 (delta 3), reused 16 (delta 1), pack-reused 0\u001b[K\nUnpacking objects: 100% (20/20), done.\n",
     "output_type": "stream"
    }
   ]
  },
  {
   "cell_type": "code",
   "source": "%cd epai3-s11/\n!ls",
   "metadata": {
    "tags": [],
    "cell_id": "00001-8c5d4e99-de70-4b6a-a8e2-64a3f5c268f6",
    "deepnote_to_be_reexecuted": false,
    "source_hash": "33646fad",
    "execution_start": 1627302036193,
    "execution_millis": 692,
    "deepnote_cell_type": "code"
   },
   "outputs": [
    {
     "name": "stdout",
     "text": "[Errno 2] No such file or directory: 'epai3-s11/'\n/work/epai3-s11\nREADME.md  s11_1.py  s11_2.py  test_s11.py\n",
     "output_type": "stream"
    }
   ],
   "execution_count": 4
  },
  {
   "cell_type": "code",
   "source": "import s11_1, s11_2, test_s11",
   "metadata": {
    "tags": [],
    "cell_id": "00002-c88b9cd5-4be0-483a-8269-8d44467a1e64",
    "deepnote_to_be_reexecuted": false,
    "source_hash": "94365139",
    "execution_start": 1627302050307,
    "execution_millis": 226,
    "deepnote_cell_type": "code"
   },
   "outputs": [],
   "execution_count": 5
  },
  {
   "cell_type": "markdown",
   "source": "# Creating multiple polygons via `Polygons` class",
   "metadata": {
    "tags": [],
    "is_collapsed": false,
    "cell_id": "00003-e43213af-ba1b-4efa-88a4-e35f35f30ab0",
    "deepnote_cell_type": "text-cell-h1"
   }
  },
  {
   "cell_type": "code",
   "source": "pols = s11_2.Polygons(m=15, R=10)",
   "metadata": {
    "tags": [],
    "cell_id": "00003-68185e3b-44aa-47cd-a65c-600d85706884",
    "deepnote_to_be_reexecuted": false,
    "source_hash": "105c3363",
    "execution_start": 1627302524932,
    "execution_millis": 1,
    "deepnote_cell_type": "code"
   },
   "outputs": [],
   "execution_count": 25
  },
  {
   "cell_type": "code",
   "source": "pols",
   "metadata": {
    "tags": [],
    "cell_id": "00005-ee18c6ee-a8e0-4a56-bb64-c8b0bc1c2548",
    "deepnote_to_be_reexecuted": false,
    "source_hash": "5b029b02",
    "execution_start": 1627302525134,
    "execution_millis": 10,
    "deepnote_cell_type": "code"
   },
   "outputs": [
    {
     "output_type": "execute_result",
     "execution_count": 26,
     "data": {
      "text/plain": "Polygons(m=15, R=10)"
     },
     "metadata": {}
    }
   ],
   "execution_count": 26
  },
  {
   "cell_type": "markdown",
   "source": "## Check if `list()` works",
   "metadata": {
    "tags": [],
    "cell_id": "00006-ed57a789-9e71-4573-8994-c860ebefd091",
    "deepnote_cell_type": "markdown"
   }
  },
  {
   "cell_type": "code",
   "source": "list(pols)",
   "metadata": {
    "tags": [],
    "cell_id": "00006-3f85f8ac-a3a1-4534-9a3e-350200f83791",
    "deepnote_to_be_reexecuted": false,
    "source_hash": "463ec9be",
    "execution_start": 1627302525472,
    "execution_millis": 15,
    "deepnote_cell_type": "code"
   },
   "outputs": [
    {
     "output_type": "execute_result",
     "execution_count": 27,
     "data": {
      "text/plain": "[(MyPolygon(3, 10)),\n (MyPolygon(4, 10)),\n (MyPolygon(5, 10)),\n (MyPolygon(6, 10)),\n (MyPolygon(7, 10)),\n (MyPolygon(8, 10)),\n (MyPolygon(9, 10)),\n (MyPolygon(10, 10)),\n (MyPolygon(11, 10)),\n (MyPolygon(12, 10)),\n (MyPolygon(13, 10)),\n (MyPolygon(14, 10)),\n (MyPolygon(15, 10))]"
     },
     "metadata": {}
    }
   ],
   "execution_count": 27
  },
  {
   "cell_type": "markdown",
   "source": "## Check len",
   "metadata": {
    "tags": [],
    "cell_id": "00008-5c68bb9e-0b62-4a7f-8312-b02926454342",
    "deepnote_cell_type": "markdown"
   }
  },
  {
   "cell_type": "code",
   "source": "len(pols)",
   "metadata": {
    "tags": [],
    "cell_id": "00007-3f2bd24e-19d8-4328-8c52-a4ab7b58105b",
    "deepnote_to_be_reexecuted": false,
    "source_hash": "47ad9a63",
    "execution_start": 1627302525806,
    "execution_millis": 6,
    "deepnote_cell_type": "code"
   },
   "outputs": [
    {
     "output_type": "execute_result",
     "execution_count": 28,
     "data": {
      "text/plain": "13"
     },
     "metadata": {}
    }
   ],
   "execution_count": 28
  },
  {
   "cell_type": "markdown",
   "source": "## Check if is iterable via `for`",
   "metadata": {
    "tags": [],
    "cell_id": "00010-dcc9328d-d63b-463f-a51a-7e66febd1c56",
    "deepnote_cell_type": "markdown"
   }
  },
  {
   "cell_type": "code",
   "source": "for item in pols:\n    print(item)",
   "metadata": {
    "tags": [],
    "cell_id": "00008-5da524a7-262c-440e-bebf-190dfaf901bd",
    "deepnote_to_be_reexecuted": false,
    "source_hash": "6b2cd30d",
    "execution_start": 1627302526673,
    "execution_millis": 16,
    "deepnote_cell_type": "code"
   },
   "outputs": [
    {
     "name": "stdout",
     "text": "(MyPolygon(3, 10))\n(MyPolygon(4, 10))\n(MyPolygon(5, 10))\n(MyPolygon(6, 10))\n(MyPolygon(7, 10))\n(MyPolygon(8, 10))\n(MyPolygon(9, 10))\n(MyPolygon(10, 10))\n(MyPolygon(11, 10))\n(MyPolygon(12, 10))\n(MyPolygon(13, 10))\n(MyPolygon(14, 10))\n(MyPolygon(15, 10))\n",
     "output_type": "stream"
    }
   ],
   "execution_count": 29
  },
  {
   "cell_type": "markdown",
   "source": "## Check `next()` and `StopIteration`",
   "metadata": {
    "tags": [],
    "cell_id": "00012-47362198-4226-42c3-afab-48a541210674",
    "deepnote_cell_type": "markdown"
   }
  },
  {
   "cell_type": "code",
   "source": "itr = iter(pols)",
   "metadata": {
    "tags": [],
    "cell_id": "00009-a6f38182-f370-42e3-bc10-8da4e9e099cf",
    "deepnote_to_be_reexecuted": false,
    "source_hash": "397dc82b",
    "execution_start": 1627302527740,
    "execution_millis": 0,
    "deepnote_cell_type": "code"
   },
   "outputs": [],
   "execution_count": 30
  },
  {
   "cell_type": "code",
   "source": "next(itr)",
   "metadata": {
    "tags": [],
    "cell_id": "00014-6bde1ac5-b75e-4519-bc50-e95e3e9972a7",
    "deepnote_to_be_reexecuted": false,
    "source_hash": "6713ad9b",
    "execution_start": 1627302528161,
    "execution_millis": 9,
    "deepnote_cell_type": "code"
   },
   "outputs": [
    {
     "output_type": "execute_result",
     "execution_count": 31,
     "data": {
      "text/plain": "(MyPolygon(3, 10))"
     },
     "metadata": {}
    }
   ],
   "execution_count": 31
  },
  {
   "cell_type": "code",
   "source": "while True:\n    try:\n        print(next(itr))\n    except StopIteration:\n        print(\"StopIteration encountered\")\n        break",
   "metadata": {
    "tags": [],
    "cell_id": "00015-09d6a2a3-a6b8-4a4e-91dc-39b8a3c6d849",
    "deepnote_to_be_reexecuted": false,
    "source_hash": "e72d8071",
    "execution_start": 1627302528521,
    "execution_millis": 7,
    "deepnote_cell_type": "code"
   },
   "outputs": [
    {
     "name": "stdout",
     "text": "(MyPolygon(4, 10))\n(MyPolygon(5, 10))\n(MyPolygon(6, 10))\n(MyPolygon(7, 10))\n(MyPolygon(8, 10))\n(MyPolygon(9, 10))\n(MyPolygon(10, 10))\n(MyPolygon(11, 10))\n(MyPolygon(12, 10))\n(MyPolygon(13, 10))\n(MyPolygon(14, 10))\n(MyPolygon(15, 10))\nStopIteration encountered\n",
     "output_type": "stream"
    }
   ],
   "execution_count": 32
  },
  {
   "cell_type": "markdown",
   "source": "## Check if all tests are passing from `test_s11.py`",
   "metadata": {
    "tags": [],
    "cell_id": "00016-827765aa-6489-4e0c-9763-852803ca432b",
    "deepnote_cell_type": "markdown"
   }
  },
  {
   "cell_type": "code",
   "source": "!pytest test_s11.py",
   "metadata": {
    "tags": [],
    "cell_id": "00016-18b6c035-977f-4141-ba1f-f88940b0736f",
    "deepnote_to_be_reexecuted": false,
    "source_hash": "7f40c65e",
    "execution_start": 1627302602751,
    "execution_millis": 1309,
    "deepnote_cell_type": "code"
   },
   "outputs": [
    {
     "name": "stdout",
     "text": "\u001b[1m============================= test session starts ==============================\u001b[0m\nplatform linux -- Python 3.7.11, pytest-6.2.4, py-1.10.0, pluggy-0.13.1\nrootdir: /work/epai3-s11\ncollected 15 items                                                             \u001b[0m\n\ntest_s11.py \u001b[32m.\u001b[0m\u001b[32m.\u001b[0m\u001b[32m.\u001b[0m\u001b[32m.\u001b[0m\u001b[32m.\u001b[0m\u001b[32m.\u001b[0m\u001b[32m.\u001b[0m\u001b[32m.\u001b[0m\u001b[32m.\u001b[0m\u001b[32m.\u001b[0m\u001b[32m.\u001b[0m\u001b[32m.\u001b[0m\u001b[32m.\u001b[0m\u001b[32m.\u001b[0m\u001b[32m.\u001b[0m\u001b[32m                                              [100%]\u001b[0m\n\n\u001b[32m============================== \u001b[32m\u001b[1m15 passed\u001b[0m\u001b[32m in 0.06s\u001b[0m\u001b[32m ==============================\u001b[0m\n",
     "output_type": "stream"
    }
   ],
   "execution_count": 33
  },
  {
   "cell_type": "markdown",
   "source": "# ✌🏻 peace and happy coding",
   "metadata": {
    "tags": [],
    "is_collapsed": false,
    "cell_id": "00018-fe41c3f0-a24a-471b-9d5a-e8863a662307",
    "deepnote_cell_type": "text-cell-h1"
   }
  },
  {
   "cell_type": "markdown",
   "source": "<a style='text-decoration:none;line-height:16px;display:flex;color:#5B5B62;padding:10px;justify-content:end;' href='https://deepnote.com?utm_source=created-in-deepnote-cell&projectId=947b6524-033c-4aba-9ed0-de70ad982259' target=\"_blank\">\n<img alt='Created in deepnote.com' style='display:inline;max-height:16px;margin:0px;margin-right:7.5px;' src='data:image/svg+xml;base64,PD94bWwgdmVyc2lvbj0iMS4wIiBlbmNvZGluZz0iVVRGLTgiPz4KPHN2ZyB3aWR0aD0iODBweCIgaGVpZ2h0PSI4MHB4IiB2aWV3Qm94PSIwIDAgODAgODAiIHZlcnNpb249IjEuMSIgeG1sbnM9Imh0dHA6Ly93d3cudzMub3JnLzIwMDAvc3ZnIiB4bWxuczp4bGluaz0iaHR0cDovL3d3dy53My5vcmcvMTk5OS94bGluayI+CiAgICA8IS0tIEdlbmVyYXRvcjogU2tldGNoIDU0LjEgKDc2NDkwKSAtIGh0dHBzOi8vc2tldGNoYXBwLmNvbSAtLT4KICAgIDx0aXRsZT5Hcm91cCAzPC90aXRsZT4KICAgIDxkZXNjPkNyZWF0ZWQgd2l0aCBTa2V0Y2guPC9kZXNjPgogICAgPGcgaWQ9IkxhbmRpbmciIHN0cm9rZT0ibm9uZSIgc3Ryb2tlLXdpZHRoPSIxIiBmaWxsPSJub25lIiBmaWxsLXJ1bGU9ImV2ZW5vZGQiPgogICAgICAgIDxnIGlkPSJBcnRib2FyZCIgdHJhbnNmb3JtPSJ0cmFuc2xhdGUoLTEyMzUuMDAwMDAwLCAtNzkuMDAwMDAwKSI+CiAgICAgICAgICAgIDxnIGlkPSJHcm91cC0zIiB0cmFuc2Zvcm09InRyYW5zbGF0ZSgxMjM1LjAwMDAwMCwgNzkuMDAwMDAwKSI+CiAgICAgICAgICAgICAgICA8cG9seWdvbiBpZD0iUGF0aC0yMCIgZmlsbD0iIzAyNjVCNCIgcG9pbnRzPSIyLjM3NjIzNzYyIDgwIDM4LjA0NzY2NjcgODAgNTcuODIxNzgyMiA3My44MDU3NTkyIDU3LjgyMTc4MjIgMzIuNzU5MjczOSAzOS4xNDAyMjc4IDMxLjY4MzE2ODMiPjwvcG9seWdvbj4KICAgICAgICAgICAgICAgIDxwYXRoIGQ9Ik0zNS4wMDc3MTgsODAgQzQyLjkwNjIwMDcsNzYuNDU0OTM1OCA0Ny41NjQ5MTY3LDcxLjU0MjI2NzEgNDguOTgzODY2LDY1LjI2MTk5MzkgQzUxLjExMjI4OTksNTUuODQxNTg0MiA0MS42NzcxNzk1LDQ5LjIxMjIyODQgMjUuNjIzOTg0Niw0OS4yMTIyMjg0IEMyNS40ODQ5Mjg5LDQ5LjEyNjg0NDggMjkuODI2MTI5Niw0My4yODM4MjQ4IDM4LjY0NzU4NjksMzEuNjgzMTY4MyBMNzIuODcxMjg3MSwzMi41NTQ0MjUgTDY1LjI4MDk3Myw2Ny42NzYzNDIxIEw1MS4xMTIyODk5LDc3LjM3NjE0NCBMMzUuMDA3NzE4LDgwIFoiIGlkPSJQYXRoLTIyIiBmaWxsPSIjMDAyODY4Ij48L3BhdGg+CiAgICAgICAgICAgICAgICA8cGF0aCBkPSJNMCwzNy43MzA0NDA1IEwyNy4xMTQ1MzcsMC4yNTcxMTE0MzYgQzYyLjM3MTUxMjMsLTEuOTkwNzE3MDEgODAsMTAuNTAwMzkyNyA4MCwzNy43MzA0NDA1IEM4MCw2NC45NjA0ODgyIDY0Ljc3NjUwMzgsNzkuMDUwMzQxNCAzNC4zMjk1MTEzLDgwIEM0Ny4wNTUzNDg5LDc3LjU2NzA4MDggNTMuNDE4MjY3Nyw3MC4zMTM2MTAzIDUzLjQxODI2NzcsNTguMjM5NTg4NSBDNTMuNDE4MjY3Nyw0MC4xMjg1NTU3IDM2LjMwMzk1NDQsMzcuNzMwNDQwNSAyNS4yMjc0MTcsMzcuNzMwNDQwNSBDMTcuODQzMDU4NiwzNy43MzA0NDA1IDkuNDMzOTE5NjYsMzcuNzMwNDQwNSAwLDM3LjczMDQ0MDUgWiIgaWQ9IlBhdGgtMTkiIGZpbGw9IiMzNzkzRUYiPjwvcGF0aD4KICAgICAgICAgICAgPC9nPgogICAgICAgIDwvZz4KICAgIDwvZz4KPC9zdmc+' > </img>\nCreated in <span style='font-weight:600;margin-left:4px;'>Deepnote</span></a>",
   "metadata": {
    "tags": [],
    "created_in_deepnote_cell": true,
    "deepnote_cell_type": "markdown"
   }
  }
 ],
 "nbformat": 4,
 "nbformat_minor": 2,
 "metadata": {
  "orig_nbformat": 2,
  "deepnote": {
   "is_reactive": false
  },
  "deepnote_notebook_id": "2a981b91-054c-4cfc-874b-6aa19931b101",
  "deepnote_execution_queue": []
 }
}